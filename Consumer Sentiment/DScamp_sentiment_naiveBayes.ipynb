{
 "cells": [
  {
   "cell_type": "markdown",
   "metadata": {},
   "source": [
    "##  A Brief writeup of feature engineering, selection process and model\n",
    ">"
   ]
  },
  {
   "cell_type": "code",
   "execution_count": 181,
   "metadata": {},
   "outputs": [],
   "source": [
    "import numpy as np\n",
    "import pandas as pd\n",
    "from scipy import stats\n",
    "import seaborn as sns\n",
    "import sklearn\n",
    "from sklearn.naive_bayes import BernoulliNB\n",
    "from sklearn.preprocessing import StandardScaler\n",
    "from sklearn.decomposition import PCA\n",
    "from matplotlib import pyplot as plt\n",
    "#%matplotlib inline"
   ]
  },
  {
   "cell_type": "code",
   "execution_count": 182,
   "metadata": {},
   "outputs": [],
   "source": [
    "# return position index of key found in line\n",
    "def location_of_key(key, line):\n",
    "    lst_of_words = line.split(' ')\n",
    "    npos = 0\n",
    "    for x in lst_of_words:\n",
    "        if key not in str(x):\n",
    "            npos += 1\n",
    "        else:\n",
    "            return npos\n",
    "\n",
    "    return None"
   ]
  },
  {
   "cell_type": "code",
   "execution_count": 183,
   "metadata": {},
   "outputs": [],
   "source": [
    "# return bool flag for a found key in a line\n",
    "def result_with_reverse_keyword(key, npos, line):\n",
    "    lst_of_words = line.split(' ')\n",
    "    npos01 = 0\n",
    "    for x in lst_of_words:\n",
    "        if key not in str(x):\n",
    "            npos01 += 1\n",
    "        else:\n",
    "            break\n",
    "            \n",
    "    if npos01 < npos:\n",
    "        return True\n",
    "    else:\n",
    "        return False"
   ]
  },
  {
   "cell_type": "code",
   "execution_count": 184,
   "metadata": {},
   "outputs": [],
   "source": [
    "# return tot number of occurrences item in list words found in line \n",
    "def count_occurrences(words, line):\n",
    "    noccur = 0\n",
    "    for w in words:\n",
    "        noccur += str(line).lower().count(w.lower())\n",
    "    return noccur"
   ]
  },
  {
   "cell_type": "markdown",
   "metadata": {},
   "source": [
    "## Use Dataset  yelp_labelled.txt\n"
   ]
  },
  {
   "cell_type": "code",
   "execution_count": 185,
   "metadata": {},
   "outputs": [],
   "source": [
    "# use Dataset \n",
    "df = pd.read_csv('../data-101/sentiment_labelled_sentences/yelp_labelled.txt', delimiter='\\t', header=None)\n",
    "df.columns = ['message', 'rating']"
   ]
  },
  {
   "cell_type": "markdown",
   "metadata": {},
   "source": [
    "## Feature Engineering, \n",
    "\n",
    "    Below are Several steps used to perform feature engineering:\n",
    "    \n",
    "    1) Construct four keyword lists, which contain the crucial keywords indicating positive or negative feelings.\n",
    "        1.a) 'good' list\n",
    "        1.b) 'bad' list\n",
    "        1.c) 'negate' list\n",
    "        1.d) 'enforce' list\n",
    "        \n",
    "    2) The logic of setting values:\n",
    "        2.a) If any word contained in 'negate' list, the result = False\n",
    "        2.b) Else, count all words in 'good' list as n_good, all words in 'bad' list as n_bad\n",
    "                   count all words in 'enforce' list as n_enforce\n",
    "                   if (n_good - n_bad) > 0: the result = True\n",
    "                   elif (n_good - n_bad) < 0: the result = False\n",
    "                   else:                      the result = False"
   ]
  },
  {
   "cell_type": "code",
   "execution_count": 186,
   "metadata": {},
   "outputs": [],
   "source": [
    "keywords_good = ['best', 'great', 'wonderful', 'delicious', 'fantastic', 'perfect', 'amazing', \n",
    "                 'tasty', 'good', 'love', 'nice', 'like', 'prompt', 'inexpensive', 'refreshing', \n",
    "                 'happier', 'happy', 'tender', 'friendly', 'fresh', 'recommend', 'impress', \n",
    "                 'beautiful', 'delight', 'tasty', 'huge', 'glad', 'yummy', 'mmm', 'phenomenal', \n",
    "                 'solid', 'clean', 'decorated', 'excellent', 'immediate', 'modern', 'coziness', \n",
    "                 'incredible', 'tasty', 'bargain', 'welcome', 'special', 'flavorful', 'fast', \n",
    "                 'exquisite', 'outstanding', 'delish']\n",
    "\n",
    "keywords_bad = ['poor', 'gross', 'hard', 'worst', 'bad', 'overpriced', 'disappoint', 'overwhelmed', \n",
    "                'disgusted', 'shocked', 'slow', 'luke', 'horrible', 'suck', 'appalling', 'cheated', \n",
    "                'bland', 'wait', 'mediocre', 'rude', 'down', 'sad', 'insult', 'disrespect', 'waiting', \n",
    "                'lacking', 'uninspire', 'wrong', 'boring']\n",
    "\n",
    "keywords_negate = ['no', 'not', 'don\\'t', 'didn\\'t', 'wouldn\\'t', 'aren\\'t', 'isn\\'t', 'wasn\\'t', \n",
    "                   'weren\\'t', 'can\\'t', 'couldn\\'t', 'won\\'t', 'shouldn\\'t', 'haven\\'t', 'hadn\\'t', \n",
    "                   'damn', 'never', 'nothing']\n",
    "\n",
    "keywords_enforce = ['so', 'really', 'very', 'back', 'again', 'worth', 'recommend', 'next', 'quite']\n"
   ]
  },
  {
   "cell_type": "code",
   "execution_count": 187,
   "metadata": {},
   "outputs": [],
   "source": [
    "additional_columns = ['good', 'bad', 'negate', 'enforce', 'combine']\n",
    "df['rating'] = (df['rating'] == 1)\n",
    "for col in additional_columns:\n",
    "    df[str(col)] = 0"
   ]
  },
  {
   "cell_type": "code",
   "execution_count": 188,
   "metadata": {},
   "outputs": [],
   "source": [
    "# feature engineering, getting 'good' list & 'bad' list & 'negate' list & 'enforce' list\n",
    "good_lst = list(map(lambda x: count_occurrences(keywords_good, x), df['message'].tolist()))\n",
    "bad_lst = list(map(lambda x: count_occurrences(keywords_bad, x), df['message'].tolist()))\n",
    "negate_lst = list(map(lambda x: count_occurrences(keywords_negate, x), df['message'].tolist()))\n",
    "enforce_lst = list(map(lambda x: count_occurrences(keywords_enforce, x), df['message'].tolist()))\n",
    "df['good'] = list(map(lambda x: x > 0, good_lst))\n",
    "df['bad'] = list(map(lambda x: x > 0, bad_lst))\n",
    "df['negate'] = list(map(lambda x: x > 0, negate_lst))\n",
    "df['enforce'] = list(map(lambda x: x > 0, enforce_lst))\n",
    "\n",
    "combine_lst = []\n",
    "for iter in range(len(good_lst)):\n",
    "    x_n = negate_lst[iter]\n",
    "    x_g = good_lst[iter]\n",
    "    x_b = bad_lst[iter]\n",
    "    x_e = enforce_lst[iter]\n",
    "    if x_n > 0:\n",
    "        combine_lst.append(False)\n",
    "    else:\n",
    "        if x_g > x_b:\n",
    "            combine_lst.append(True)\n",
    "        elif x_g < x_b:\n",
    "            combine_lst.append(False)\n",
    "        else:\n",
    "            if x_e > 0:\n",
    "                combine_lst.append(True)\n",
    "            else:\n",
    "                combine_lst.append(False)\n",
    "\n",
    "df['combine'] = combine_lst"
   ]
  },
  {
   "cell_type": "code",
   "execution_count": 189,
   "metadata": {},
   "outputs": [
    {
     "data": {
      "text/html": [
       "<div>\n",
       "<style scoped>\n",
       "    .dataframe tbody tr th:only-of-type {\n",
       "        vertical-align: middle;\n",
       "    }\n",
       "\n",
       "    .dataframe tbody tr th {\n",
       "        vertical-align: top;\n",
       "    }\n",
       "\n",
       "    .dataframe thead th {\n",
       "        text-align: right;\n",
       "    }\n",
       "</style>\n",
       "<table border=\"1\" class=\"dataframe\">\n",
       "  <thead>\n",
       "    <tr style=\"text-align: right;\">\n",
       "      <th></th>\n",
       "      <th>message</th>\n",
       "      <th>rating</th>\n",
       "      <th>good</th>\n",
       "      <th>bad</th>\n",
       "      <th>negate</th>\n",
       "      <th>enforce</th>\n",
       "      <th>combine</th>\n",
       "    </tr>\n",
       "  </thead>\n",
       "  <tbody>\n",
       "    <tr>\n",
       "      <th>0</th>\n",
       "      <td>Wow... Loved this place.</td>\n",
       "      <td>True</td>\n",
       "      <td>True</td>\n",
       "      <td>False</td>\n",
       "      <td>False</td>\n",
       "      <td>False</td>\n",
       "      <td>True</td>\n",
       "    </tr>\n",
       "    <tr>\n",
       "      <th>1</th>\n",
       "      <td>Crust is not good.</td>\n",
       "      <td>False</td>\n",
       "      <td>True</td>\n",
       "      <td>False</td>\n",
       "      <td>True</td>\n",
       "      <td>False</td>\n",
       "      <td>False</td>\n",
       "    </tr>\n",
       "    <tr>\n",
       "      <th>2</th>\n",
       "      <td>Not tasty and the texture was just nasty.</td>\n",
       "      <td>False</td>\n",
       "      <td>True</td>\n",
       "      <td>False</td>\n",
       "      <td>True</td>\n",
       "      <td>False</td>\n",
       "      <td>False</td>\n",
       "    </tr>\n",
       "    <tr>\n",
       "      <th>3</th>\n",
       "      <td>Stopped by during the late May bank holiday of...</td>\n",
       "      <td>True</td>\n",
       "      <td>True</td>\n",
       "      <td>False</td>\n",
       "      <td>False</td>\n",
       "      <td>True</td>\n",
       "      <td>True</td>\n",
       "    </tr>\n",
       "    <tr>\n",
       "      <th>4</th>\n",
       "      <td>The selection on the menu was great and so wer...</td>\n",
       "      <td>True</td>\n",
       "      <td>True</td>\n",
       "      <td>False</td>\n",
       "      <td>False</td>\n",
       "      <td>True</td>\n",
       "      <td>True</td>\n",
       "    </tr>\n",
       "  </tbody>\n",
       "</table>\n",
       "</div>"
      ],
      "text/plain": [
       "                                             message  rating  good    bad  \\\n",
       "0                           Wow... Loved this place.    True  True  False   \n",
       "1                                 Crust is not good.   False  True  False   \n",
       "2          Not tasty and the texture was just nasty.   False  True  False   \n",
       "3  Stopped by during the late May bank holiday of...    True  True  False   \n",
       "4  The selection on the menu was great and so wer...    True  True  False   \n",
       "\n",
       "   negate  enforce  combine  \n",
       "0   False    False     True  \n",
       "1    True    False    False  \n",
       "2    True    False    False  \n",
       "3   False     True     True  \n",
       "4   False     True     True  "
      ]
     },
     "execution_count": 189,
     "metadata": {},
     "output_type": "execute_result"
    }
   ],
   "source": [
    "df.head()"
   ]
  },
  {
   "cell_type": "code",
   "execution_count": 190,
   "metadata": {},
   "outputs": [
    {
     "data": {
      "text/plain": [
       "<matplotlib.axes._subplots.AxesSubplot at 0xbea7898>"
      ]
     },
     "execution_count": 190,
     "metadata": {},
     "output_type": "execute_result"
    },
    {
     "data": {
      "image/png": "[encoded data removed]",
      "text/plain": [
       "<Figure size 432x288 with 2 Axes>"
      ]
     },
     "metadata": {
      "needs_background": "light"
     },
     "output_type": "display_data"
    }
   ],
   "source": [
    "sns.heatmap(df.corr())"
   ]
  },
  {
   "cell_type": "markdown",
   "metadata": {},
   "source": [
    "## heatmap shows good correlation between combine flag and expected rating flag, and \n",
    "## independence between each other for rest of variables. "
   ]
  },
  {
   "cell_type": "markdown",
   "metadata": {},
   "source": [
    "## The model is a naive bayes model, with individual probability of Bernoulli distribution."
   ]
  },
  {
   "cell_type": "code",
   "execution_count": 191,
   "metadata": {},
   "outputs": [],
   "source": [
    "data = df[['good', 'bad', 'negate', 'enforce', 'combine']]\n",
    "target = df['rating']"
   ]
  },
  {
   "cell_type": "code",
   "execution_count": 192,
   "metadata": {},
   "outputs": [
    {
     "data": {
      "text/plain": [
       "BernoulliNB(alpha=1.0, binarize=0.0, class_prior=None, fit_prior=True)"
      ]
     },
     "execution_count": 192,
     "metadata": {},
     "output_type": "execute_result"
    }
   ],
   "source": [
    "model = BernoulliNB()\n",
    "model.fit(data, target)"
   ]
  },
  {
   "cell_type": "code",
   "execution_count": 193,
   "metadata": {},
   "outputs": [
    {
     "name": "stdout",
     "output_type": "stream",
     "text": [
      "Number of mislabeled points out of a total 1000 points : 176\n"
     ]
    }
   ],
   "source": [
    "# predicted classification\n",
    "y_pred = model.predict(data)\n",
    "# Display our results.\n",
    "print(\"Number of mislabeled points out of a total {} points : {}\".format(\n",
    "    data.shape[0],\n",
    "    (target != y_pred).sum()\n",
    "))"
   ]
  },
  {
   "cell_type": "code",
   "execution_count": 194,
   "metadata": {},
   "outputs": [
    {
     "name": "stdout",
     "output_type": "stream",
     "text": [
      "accuracy = 0.824\n"
     ]
    }
   ],
   "source": [
    "a = (1000 - 176) / 1000\n",
    "print('accuracy = {}'.format(a))"
   ]
  },
  {
   "cell_type": "code",
   "execution_count": 195,
   "metadata": {},
   "outputs": [],
   "source": [
    "from sklearn.metrics import confusion_matrix"
   ]
  },
  {
   "cell_type": "code",
   "execution_count": 196,
   "metadata": {},
   "outputs": [
    {
     "data": {
      "text/plain": [
       "array([[451,  49],\n",
       "       [127, 373]], dtype=int64)"
      ]
     },
     "execution_count": 196,
     "metadata": {},
     "output_type": "execute_result"
    }
   ],
   "source": [
    "confusion_matrix(target, y_pred)"
   ]
  },
  {
   "cell_type": "code",
   "execution_count": 178,
   "metadata": {},
   "outputs": [],
   "source": []
  }
 ],
 "metadata": {
  "kernelspec": {
   "display_name": "Python 3",
   "language": "python",
   "name": "python3"
  },
  "language_info": {
   "codemirror_mode": {
    "name": "ipython",
    "version": 3
   },
   "file_extension": ".py",
   "mimetype": "text/x-python",
   "name": "python",
   "nbconvert_exporter": "python",
   "pygments_lexer": "ipython3",
   "version": "3.6.7"
  }
 },
 "nbformat": 4,
 "nbformat_minor": 2
}
